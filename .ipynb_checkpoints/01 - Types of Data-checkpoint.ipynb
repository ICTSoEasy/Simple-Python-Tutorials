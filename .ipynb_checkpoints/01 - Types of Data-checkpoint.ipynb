{
 "cells": [
  {
   "cell_type": "markdown",
   "metadata": {},
   "source": [
    "# Types of Data\n",
    "## Introduction\n",
    "To be able to use input and output, the most basic building blocks, we need to be able to remember a few basic things:\n",
    "- Computers are proper stupid. They just do what we tell them, they don't try to work things out or anything like that. \n",
    "- Computers - due to rule 1 - only understand 1s and 0s. That doesn't mean we have to tell them 1s and 0s - but it means that everything is *stored* in 1s and 0s underneath.\n",
    "- 00101001 could be a whole number, a number with a decimal point, a character, a bit of an image, a bit of sound, the computer doesn't know or care.\n",
    "- because of this - if we try and do things that doesn't make sense for that kind of data - such as adding text to a number - the computer has a hissy fit and crashes. \n",
    "- to fix this we need to typecast - change data - as we use it to force it into the right 'type' for our purpose"
   ]
  },
  {
   "cell_type": "markdown",
   "metadata": {},
   "source": [
    "Let's looks at some types of data\n",
    "When you run the code you will see these output as int, float and str.\n",
    "- An int - or integer - is a whole number\n",
    "- A float is a number with a decimal point (that point floats around a bit when we learn about binary number theory, hence the name. You may have seen this described as a 'real' number)\n",
    "- A string is a string of characters - think of it as ordinary text"
   ]
  },
  {
   "cell_type": "code",
   "execution_count": null,
   "metadata": {},
   "outputs": [],
   "source": [
    "print('TYPES OF DATA')\n",
    "print(type(1))\n",
    "print(type(1.1))\n",
    "print(type('hello'))"
   ]
  },
  {
   "cell_type": "markdown",
   "metadata": {},
   "source": [
    "To **typecast**, we use a `function`. Functions like to gather information to work with using brackets - ( and ) - I think these look a bit like arms held out to gather the information it needs, so I call them cuddle arms! We have already used two functions - `type()` gathers up a piece of data and out of the end of it comes the name of the data type. And `print()` gathers up some information and prints it to the screen.\n",
    "\n",
    "The function name is the type of data we want to convert into! Let's look at some"
   ]
  },
  {
   "cell_type": "code",
   "execution_count": null,
   "metadata": {},
   "outputs": [],
   "source": [
    "print('TYPECASTING TO STRINGS') #Notice how the OUTPUT from one function can be the INPUT for another, all nested together like Russian dolls?\n",
    "print(type(1))\n",
    "print(type(str(1))) #I have converted the integer 1 to a string \"1\"\n",
    "print(type(1.1))\n",
    "print(type(str(1.1))) #I have converted the float \"1\" to a string \"1.1\""
   ]
  },
  {
   "cell_type": "code",
   "execution_count": null,
   "metadata": {},
   "outputs": [],
   "source": [
    "print('TYPECASTING TO FLOATS') \n",
    "print(type(1))\n",
    "print(type(float(1))) #I have converted the integer 1 to a float 1.0\n",
    "print(type(\"1.1\"))\n",
    "print(type(float(\"1.1\"))) #I have converted the string \"1.1\" to a float 1.1"
   ]
  },
  {
   "cell_type": "code",
   "execution_count": null,
   "metadata": {},
   "outputs": [],
   "source": [
    "print() #Just a new line\n",
    "print('TYPECASTING TO INTEGERS') \n",
    "print(type(\"1\"))\n",
    "print(type(int(\"1\"))) #I have converted the string \"1\" to an integer 1\n",
    "print(type(1.1))\n",
    "print(type(int(1.1))) #I have converted the float 1.1 to an integer 1 (notice the rounding)"
   ]
  }
 ],
 "metadata": {
  "kernelspec": {
   "display_name": "Python 3",
   "language": "python",
   "name": "python3"
  },
  "language_info": {
   "codemirror_mode": {
    "name": "ipython",
    "version": 3
   },
   "file_extension": ".py",
   "mimetype": "text/x-python",
   "name": "python",
   "nbconvert_exporter": "python",
   "pygments_lexer": "ipython3",
   "version": "3.7.1"
  }
 },
 "nbformat": 4,
 "nbformat_minor": 2
}

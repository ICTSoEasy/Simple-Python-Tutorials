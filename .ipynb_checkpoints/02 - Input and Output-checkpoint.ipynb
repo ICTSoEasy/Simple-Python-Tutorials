{
 "cells": [
  {
   "cell_type": "markdown",
   "metadata": {},
   "source": [
    "# Input and Output (and variable assignment!)\n",
    "## Introduction\n",
    "A computer program is pretty rubbish if it can do a load of stuff, but we have no way of telling it information or seeing the results.\n",
    "\n",
    "## Input\n",
    "To tell a computer something we use an `input` function - that is we are putting some information IN to the computer program. As we discussed in the previous document, as it is a function it needs it's cuddle arms, even though at this point it will not be gathering anything in."
   ]
  },
  {
   "cell_type": "code",
   "execution_count": null,
   "metadata": {},
   "outputs": [],
   "source": [
    "input()"
   ]
  },
  {
   "cell_type": "markdown",
   "metadata": {},
   "source": [
    "See what happens when you run that? It opens up a box and lets you type something in. One of the quirks of Jupyter is it outputs the last thing we put in - this won't happen in 'normal' programs it's just a handy way for us to see what's happening. \n",
    "\n",
    "Now how about those cuddle arms? What does the `input` function need to be able to do it's job? Well really we want it to tell the user a message, so we can put that inside the arms. As our message will be text (a string) we put it inside speech marks:"
   ]
  },
  {
   "cell_type": "code",
   "execution_count": null,
   "metadata": {},
   "outputs": [],
   "source": [
    "input('Please enter your name')"
   ]
  },
  {
   "cell_type": "markdown",
   "metadata": {},
   "source": [
    "Cool eh? But - and this is a big but - what happens to that name once we've entered it? Well, at the moment, nothing. It just disappears. What we need to do is say \"oi! computer! save this somewhere for later!\". So we ask the computer to give up a little bit of memory to act like a box. And we give the box a name so we can remember it. And we **assign** the contents into that box. The box is called a variable (because we can vary or change the contents later). "
   ]
  },
  {
   "cell_type": "code",
   "execution_count": null,
   "metadata": {},
   "outputs": [],
   "source": [
    "name = input('Please enter your name')"
   ]
  },
  {
   "cell_type": "markdown",
   "metadata": {},
   "source": [
    "So this:\n",
    "- creates a variable called 'name'\n",
    "- calls the `input` function and asks the user for their name\n",
    "- assigns the output of the `input` function into the variable.\n",
    "\n",
    "We can read this as **name becomes equal to the result of the input function**"
   ]
  },
  {
   "cell_type": "markdown",
   "metadata": {},
   "source": [
    "## Variable names\n",
    "Let's just segway a little bit into these variable names. Each language has it's own rules and conventions - I'll give you **my** rules which, handily, work for Python!\n",
    "- Start with a lower case letter\n",
    "- Include only letters and numbers - **not** spaces!\n",
    "- Separate words by using uppercase letters thisWouldBeEasierToRead than thiswhichishardtoread\n",
    "- Be descriptive - name is ok for a name, age is ok for an age, num is not good for a number, what number is it? x is all kinds of wrong - what on earth does x mean?\n",
    "- Think about the data you are inputting - use singular/plural names appropriately"
   ]
  },
  {
   "cell_type": "markdown",
   "metadata": {},
   "source": [
    "## Typecasting on input\n",
    "When you type something in it **always** is stored as a string. It's a good idea to change the type on input. IF you mess up your input it may go wrong, but dealing with that is for another lesson!\n",
    "\n",
    "We will never need to use `str()` on input - because it is already a string. But we might need to use `int()` or `float()`"
   ]
  },
  {
   "cell_type": "code",
   "execution_count": null,
   "metadata": {},
   "outputs": [],
   "source": [
    "name = input('Enter your name')\n",
    "yearBorn = int(input('Enter the year you were born'))\n",
    "yearsOld = float(input('How old are you?'))\n",
    "print(type(name))\n",
    "print(type(yearBorn))\n",
    "print(type(yearsOld))"
   ]
  },
  {
   "cell_type": "markdown",
   "metadata": {},
   "source": [
    "See how the types have changed? This means any rampant child can proudly type in that they are 5.5 years old. Getting the data types right at this stage quite often saves messing around later on. \n",
    "\n",
    "Note I've written (for example) `name = input('Enter your name')` not `name = (input('Enter your name'))`? Brackets are used by functions to gather what you need, and are evaluated in the same way as they are in Maths, to keep everything happening in the correct order. So while you might write `3 x (4 + 1)` You wouldn't write `(3 x (4 + 1))` would you?"
   ]
  },
  {
   "cell_type": "markdown",
   "metadata": {},
   "source": [
    "## Ouputting - Comma-concatenation\n",
    "Output is when the program sends something *out* of the computer to the user - usually via the screen. We use the `print()` function - and it gathers inside the (cuddle arms) whatever we want it to output.\n",
    "\n",
    "The easiest thing to output is plain text. If we are just outputting information we don't even need to use a variable, we can just output the text inside the brackets as a string:"
   ]
  },
  {
   "cell_type": "code",
   "execution_count": null,
   "metadata": {},
   "outputs": [],
   "source": [
    "print(\"Hello world!\")"
   ]
  },
  {
   "cell_type": "markdown",
   "metadata": {},
   "source": [
    "We're more likely to want to output variables though. I mean, there's no point saving stuff if we can't see it later, is there? We can just put the variable names inside the `print()` function."
   ]
  },
  {
   "cell_type": "code",
   "execution_count": null,
   "metadata": {},
   "outputs": [],
   "source": [
    "print(name)\n",
    "print(yearBorn)\n",
    "print(yearsOld)"
   ]
  },
  {
   "cell_type": "markdown",
   "metadata": {},
   "source": [
    "See how it doesn't matter what type of data it is? \n",
    "\n",
    "Things do get a bit harder when we want to output multiple things, some text and a variable for example. We need to join them together and include them all in the brackets - this is called concatenation - cool word eh? The **simplest** way is to just join everything with commas:"
   ]
  },
  {
   "cell_type": "code",
   "execution_count": null,
   "metadata": {},
   "outputs": [],
   "source": [
    "print('My name is',name)\n",
    "print('I was born in',yearBorn)\n",
    "print('I am',yearsOld,'years old')"
   ]
  },
  {
   "cell_type": "markdown",
   "metadata": {},
   "source": [
    "That way Python deals with all of the typecasting for us. It effectively puts `str()` around them all for us. But - and this is another big but - it also adds spaces at every comma. This tends to raise it's ugly head when joining lots of things together:"
   ]
  },
  {
   "cell_type": "code",
   "execution_count": null,
   "metadata": {},
   "outputs": [],
   "source": [
    "print('My name is',name,'. I am',yearsOld,'and was born in',yearBorn,'.')"
   ]
  },
  {
   "cell_type": "markdown",
   "metadata": {},
   "source": [
    "## Outputting - proper concatenation\n",
    "The most common alternative is to do the typecasing ourselves and join the text together using proper concatenation, that is using the `+` operator which just acts like glue. \n",
    "\n",
    "However, typecasting does become important, if we don't typecast we get errors!"
   ]
  },
  {
   "cell_type": "code",
   "execution_count": null,
   "metadata": {},
   "outputs": [],
   "source": [
    "print('My name is'+name+'. I am'+yearsOld+'and was born in'+yearBorn+'.')"
   ]
  },
  {
   "cell_type": "markdown",
   "metadata": {},
   "source": [
    "So we need to convert all of the non-string data types to strings using `str()`:"
   ]
  },
  {
   "cell_type": "code",
   "execution_count": null,
   "metadata": {},
   "outputs": [],
   "source": [
    "print('My name is'+name+'. I am'+str(yearsOld)+'and was born in'+str(yearBorn)+'.')"
   ]
  },
  {
   "cell_type": "markdown",
   "metadata": {},
   "source": [
    "And of course we need to add the spaces in ourselves:"
   ]
  },
  {
   "cell_type": "code",
   "execution_count": null,
   "metadata": {},
   "outputs": [],
   "source": [
    "print('My name is '+name+'. I am '+str(yearsOld)+' and was born in '+str(yearBorn)+'.')"
   ]
  },
  {
   "cell_type": "markdown",
   "metadata": {},
   "source": [
    "## Formatting with format\n",
    "Now to my least favourite; sometimes we need a little bit more control on how numbers, particularly floats, present themselves. In this case we may choose to use the `format()` function. At this stage, I would just advise learning how to use this to output currency and be done with it, but I will give you a little bit of information; First let's get some data. I've asked for a monetary value. Now this may be entered as an integer (10), a currency (10.34), a rounded currency (10.3) or even a fraction of a valid currency (10.343) - but regardless we want to be able to output to 2 decimal places."
   ]
  },
  {
   "cell_type": "code",
   "execution_count": null,
   "metadata": {},
   "outputs": [],
   "source": [
    "currencyValue = float(input('Enter a currency value: '))\n",
    "print('You entered',currencyValue)"
   ]
  },
  {
   "cell_type": "markdown",
   "metadata": {},
   "source": [
    "We can force that to output with three decimal places by setting a wacky string (which is the formatting instruction) and then calling the format *on* that wacky string, and giving it the number to work with.\n",
    "\n",
    "The wacky string is split into three parts:\n",
    "- before the : - we have left this blank as we only have one bit of data. If we had more we would need to number it.\n",
    "- after the : we have a number - which is digits_before.digits_after. We have no digits before (0 would also have worked) so we will output however many digits before the decimal point as we need. We have put 2 after the . so we will output 2 digits after the decimal point.\n",
    "- f - this shows it is a fixed point number (a bit like a float - just accept it!)\n",
    "\n",
    "See! I said it was confusing!"
   ]
  },
  {
   "cell_type": "code",
   "execution_count": null,
   "metadata": {},
   "outputs": [],
   "source": [
    "print('{:.2f}'.format(currencyValue))"
   ]
  },
  {
   "cell_type": "markdown",
   "metadata": {},
   "source": [
    "Now that does work. We can even, if we want, put more text around the wacky string:"
   ]
  },
  {
   "cell_type": "code",
   "execution_count": null,
   "metadata": {},
   "outputs": [],
   "source": [
    "print('The currency value you entered was £{:.2f}, how nice!'.format(currencyValue))"
   ]
  },
  {
   "cell_type": "markdown",
   "metadata": {},
   "source": [
    "Personally, I don't like it. My prefernce would be to do this in two stages, formatting the value and casting it into a string first, and then outputting it using one of the above methods:"
   ]
  },
  {
   "cell_type": "code",
   "execution_count": null,
   "metadata": {},
   "outputs": [],
   "source": [
    "currencyValueS = str('{:.2f}'.format(currencyValue))\n",
    "print('The currency value you entered was £'+currencyValueS+', how nice!')"
   ]
  },
  {
   "cell_type": "markdown",
   "metadata": {},
   "source": [
    "Maybe that's just a little bit more hard work but I think it's far easier to read!"
   ]
  },
  {
   "cell_type": "markdown",
   "metadata": {},
   "source": [
    "# Exercises"
   ]
  },
  {
   "cell_type": "markdown",
   "metadata": {},
   "source": [
    "- Enter your name, number of ear piercings, length of your hair, and amounf of money in your pocket.\n",
    "- Save them as suitable variables and cast them to suitable types\n",
    "- Use all three methods to output a little story about yourself."
   ]
  },
  {
   "cell_type": "code",
   "execution_count": null,
   "metadata": {
    "solution2": "hidden",
    "solution2_first": true
   },
   "outputs": [],
   "source": [
    "#Write your code here"
   ]
  },
  {
   "cell_type": "code",
   "execution_count": null,
   "metadata": {
    "solution2": "hidden"
   },
   "outputs": [],
   "source": [
    "name = input('Enter your name: ') #String\n",
    "earPiercings = int(input('Enter the number of ear piercings you have: ')) #Can't have half an earring!\n",
    "hairLength = float(input('Enter the length of your hair in inches: ')) #But you *can* have half an inch of hair!\n",
    "money = float(input('Enter the amount of money you have in your pocket: ')) #Could be 20 or could be 2.20\n",
    "\n",
    "#method one\n",
    "print('My name is',name,'and I have',earPiercings,'ear piercings.')\n",
    "print('My hair is',hairLength,'inches long and I currently have',money,'in my pocket.')\n",
    "\n",
    "#method two\n",
    "print('My name is '+name+' and I have '+str(earPiercings)+' ear piercings.')\n",
    "print('My hair is '+str(hairLength)+' inches long and I currently have '+str(money)+' in my pocket.')\n",
    "\n",
    "#method three\n",
    "moneyS = '{:.2f}'.format(money)\n",
    "print('My name is '+name+' and I have '+str(earPiercings)+' ear piercings.')\n",
    "print('My hair is '+str(hairLength)+' inches long and I currently have '+moneyS+' in my pocket.')"
   ]
  }
 ],
 "metadata": {
  "kernelspec": {
   "display_name": "Python 3",
   "language": "python",
   "name": "python3"
  },
  "language_info": {
   "codemirror_mode": {
    "name": "ipython",
    "version": 3
   },
   "file_extension": ".py",
   "mimetype": "text/x-python",
   "name": "python",
   "nbconvert_exporter": "python",
   "pygments_lexer": "ipython3",
   "version": "3.7.1"
  }
 },
 "nbformat": 4,
 "nbformat_minor": 2
}
